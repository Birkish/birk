{
 "cells": [
  {
   "cell_type": "markdown",
   "metadata": {},
   "source": [
    "---\n",
    "\n",
    "_You are currently looking at **version 1.1** of this notebook. To download notebooks and datafiles, as well as get help on Jupyter notebooks in the Coursera platform, visit the [Jupyter Notebook FAQ](https://www.coursera.org/learn/python-data-analysis/resources/0dhYG) course resource._\n",
    "\n",
    "---"
   ]
  },
  {
   "cell_type": "code",
   "execution_count": 53,
   "metadata": {},
   "outputs": [],
   "source": [
    "import pandas as pd\n",
    "import numpy as np\n",
    "from scipy.stats import ttest_ind"
   ]
  },
  {
   "cell_type": "markdown",
   "metadata": {},
   "source": [
    "# Assignment 4 - Hypothesis Testing\n",
    "This assignment requires more individual learning than previous assignments - you are encouraged to check out the [pandas documentation](http://pandas.pydata.org/pandas-docs/stable/) to find functions or methods you might not have used yet, or ask questions on [Stack Overflow](http://stackoverflow.com/) and tag them as pandas and python related. And of course, the discussion forums are open for interaction with your peers and the course staff.\n",
    "\n",
    "Definitions:\n",
    "* A _quarter_ is a specific three month period, Q1 is January through March, Q2 is April through June, Q3 is July through September, Q4 is October through December.\n",
    "* A _recession_ is defined as starting with two consecutive quarters of GDP decline, and ending with two consecutive quarters of GDP growth.\n",
    "* A _recession bottom_ is the quarter within a recession which had the lowest GDP.\n",
    "* A _university town_ is a city which has a high percentage of university students compared to the total population of the city.\n",
    "\n",
    "**Hypothesis**: University towns have their mean housing prices less effected by recessions. Run a t-test to compare the ratio of the mean price of houses in university towns the quarter before the recession starts compared to the recession bottom. (`price_ratio=quarter_before_recession/recession_bottom`)\n",
    "\n",
    "The following data files are available for this assignment:\n",
    "* From the [Zillow research data site](http://www.zillow.com/research/data/) there is housing data for the United States. In particular the datafile for [all homes at a city level](http://files.zillowstatic.com/research/public/City/City_Zhvi_AllHomes.csv), ```City_Zhvi_AllHomes.csv```, has median home sale prices at a fine grained level.\n",
    "* From the Wikipedia page on college towns is a list of [university towns in the United States](https://en.wikipedia.org/wiki/List_of_college_towns#College_towns_in_the_United_States) which has been copy and pasted into the file ```university_towns.txt```.\n",
    "* From Bureau of Economic Analysis, US Department of Commerce, the [GDP over time](http://www.bea.gov/national/index.htm#gdp) of the United States in current dollars (use the chained value in 2009 dollars), in quarterly intervals, in the file ```gdplev.xls```. For this assignment, only look at GDP data from the first quarter of 2000 onward.\n",
    "\n",
    "Each function in this assignment below is worth 10%, with the exception of ```run_ttest()```, which is worth 50%."
   ]
  },
  {
   "cell_type": "code",
   "execution_count": 54,
   "metadata": {},
   "outputs": [],
   "source": [
    "# Use this dictionary to map state names to two letter acronyms\n",
    "states = {'OH': 'Ohio', 'KY': 'Kentucky', 'AS': 'American Samoa', 'NV': 'Nevada', 'WY': 'Wyoming', 'NA': 'National', 'AL': 'Alabama', 'MD': 'Maryland', 'AK': 'Alaska', 'UT': 'Utah', 'OR': 'Oregon', 'MT': 'Montana', 'IL': 'Illinois', 'TN': 'Tennessee', 'DC': 'District of Columbia', 'VT': 'Vermont', 'ID': 'Idaho', 'AR': 'Arkansas', 'ME': 'Maine', 'WA': 'Washington', 'HI': 'Hawaii', 'WI': 'Wisconsin', 'MI': 'Michigan', 'IN': 'Indiana', 'NJ': 'New Jersey', 'AZ': 'Arizona', 'GU': 'Guam', 'MS': 'Mississippi', 'PR': 'Puerto Rico', 'NC': 'North Carolina', 'TX': 'Texas', 'SD': 'South Dakota', 'MP': 'Northern Mariana Islands', 'IA': 'Iowa', 'MO': 'Missouri', 'CT': 'Connecticut', 'WV': 'West Virginia', 'SC': 'South Carolina', 'LA': 'Louisiana', 'KS': 'Kansas', 'NY': 'New York', 'NE': 'Nebraska', 'OK': 'Oklahoma', 'FL': 'Florida', 'CA': 'California', 'CO': 'Colorado', 'PA': 'Pennsylvania', 'DE': 'Delaware', 'NM': 'New Mexico', 'RI': 'Rhode Island', 'MN': 'Minnesota', 'VI': 'Virgin Islands', 'NH': 'New Hampshire', 'MA': 'Massachusetts', 'GA': 'Georgia', 'ND': 'North Dakota', 'VA': 'Virginia'}"
   ]
  },
  {
   "cell_type": "code",
   "execution_count": 102,
   "metadata": {
    "umich_part_id": "021",
    "umich_partlist_id": "004"
   },
   "outputs": [],
   "source": [
    "def get_list_of_university_towns():\n",
    "    \n",
    "    '''Returns a DataFrame of towns and the states they are in from the \n",
    "    university_towns.txt list. The format of the DataFrame should be:\n",
    "    DataFrame( [ [\"Michigan\", \"Ann Arbor\"], [\"Michigan\", \"Yipsilanti\"] ], \n",
    "    columns=[\"State\", \"RegionName\"]  )\n",
    "    \n",
    "    The following cleaning needs to be done:\n",
    "\n",
    "    1. For \"State\", removing characters from \"[\" to the end.\n",
    "    2. For \"RegionName\", when applicable, removing every character from \" (\" to the end.\n",
    "    3. Depending on how you read the data, you may need to remove newline character '\\n'. '''\n",
    "    \n",
    "    data = []\n",
    "    state = None\n",
    "    state_towns = []\n",
    "    with open('university_towns.txt') as file:\n",
    "        for line in file:\n",
    "            thisLine = line[:-1]\n",
    "            if thisLine[-6:] == '[edit]':\n",
    "                state = thisLine[:-6]\n",
    "                continue\n",
    "            if '(' in line:\n",
    "                town = thisLine[:thisLine.index('(')-1]\n",
    "                state_towns.append([state,town])\n",
    "            else:\n",
    "                town = thisLine\n",
    "                state_towns.append([state,town])\n",
    "            data.append(thisLine)\n",
    "    df = pd.DataFrame(state_towns,columns = ['State','RegionName'])\n",
    "    return df"
   ]
  },
  {
   "cell_type": "code",
   "execution_count": 103,
   "metadata": {},
   "outputs": [],
   "source": [
    "def read_gdp(): \n",
    "    #only look at GDP data from the first quarter of 2000 onward.\n",
    "    #(use the chained value in 2009 dollars)\n",
    "    #Only needs column 5&7\n",
    "    gdp = pd.read_excel('gdplev.xls', skiprows = 4)\n",
    "    \n",
    "    # print(gdp)\n",
    "    #gdp = gdp[gdp['Unnamed: 4','Unnamed: 6']]\n",
    "    gdp = gdp.iloc[:,4:7]\n",
    "    gdp.drop(['Unnamed: 5'], axis=1, inplace=True)\n",
    "    gdp = gdp.loc[215:]\n",
    "    gdp.rename(columns={'Unnamed: 4':'Year & Quarter', 'Unnamed: 6':'GDP'}, inplace=True)\n",
    "    gdp.reset_index(drop=True, inplace=True)\n",
    "    \n",
    "    return gdp"
   ]
  },
  {
   "cell_type": "code",
   "execution_count": 104,
   "metadata": {
    "scrolled": true,
    "umich_part_id": "022",
    "umich_partlist_id": "004"
   },
   "outputs": [],
   "source": [
    "def get_recession_start():\n",
    "    '''Returns the year and quarter of the recession start time as a \n",
    "    string value in a format such as 2005q3'''\n",
    "    gdp = read_gdp()\n",
    "    \n",
    "    #All of the years that has had a declinge in GDP-growth\n",
    "    gdp['GDP-DIFF'] = gdp['GDP'].diff()\n",
    "    gdp = gdp.where(gdp['GDP-DIFF'] < 0)\n",
    "    gdp.dropna(inplace = True)\n",
    "    \n",
    "    #Finding the year that had had two following\n",
    "    #years of decline in growth \n",
    "    gdp['index'] = gdp.index\n",
    "    gdp['index-diff'] = gdp['index'].diff()\n",
    "    gdp_min = gdp['index-diff'].idxmin()\n",
    "    \n",
    "    \n",
    "    return gdp['Year & Quarter'].loc[gdp_min-1]"
   ]
  },
  {
   "cell_type": "code",
   "execution_count": 105,
   "metadata": {
    "umich_part_id": "023",
    "umich_partlist_id": "004"
   },
   "outputs": [],
   "source": [
    "def get_recession_end():\n",
    "    '''Returns the year and quarter of the recession end time as a \n",
    "    string value in a format such as 2005q3'''\n",
    "    gdp = read_gdp()\n",
    "    gdp['GDP-diff'] = gdp['GDP'].diff()\n",
    "    gdp.dropna(inplace = True)\n",
    "    \n",
    "    gdp = gdp[gdp['GDP-diff']>0]\n",
    "    gdp['index'] = gdp.index\n",
    "    gdp['index-diff'] = gdp['index'].diff()\n",
    "    \n",
    "    max_idx = gdp['index-diff'].idxmax()\n",
    " \n",
    "    return gdp['Year & Quarter'].loc[max_idx+1]"
   ]
  },
  {
   "cell_type": "code",
   "execution_count": 106,
   "metadata": {
    "umich_part_id": "024",
    "umich_partlist_id": "004"
   },
   "outputs": [],
   "source": [
    "def get_recession_bottom():\n",
    "    '''Returns the year and quarter of the recession bottom time as a \n",
    "    string value in a format such as 2005q3'''\n",
    "    gdp = read_gdp()\n",
    "    max_idx = gdp[gdp['Year & Quarter']==get_recession_end()].index[0]\n",
    "    min_idx = gdp[gdp['Year & Quarter']==get_recession_start()].index[0]\n",
    "    gdp = gdp.iloc[min_idx: max_idx]\n",
    "    \n",
    "    bott = gdp['GDP'].min()\n",
    "    test = gdp[gdp['GDP']==bott].index[0]\n",
    "    \n",
    "    return gdp['Year & Quarter'].loc[test]"
   ]
  },
  {
   "cell_type": "code",
   "execution_count": 107,
   "metadata": {
    "umich_part_id": "025",
    "umich_partlist_id": "004"
   },
   "outputs": [],
   "source": [
    "def convert_housing_data_to_quarters():\n",
    "    '''Converts the housing data to quarters and returns it as mean \n",
    "    values in a dataframe. This dataframe should be a dataframe with\n",
    "    columns for 2000q1 through 2016q3, and should have a multi-index\n",
    "    in the shape of [\"State\",\"RegionName\"].\n",
    "    \n",
    "    Note: Quarters are defined in the assignment description, they are\n",
    "    not arbitrary three month periods.\n",
    "    \n",
    "    The resulting dataframe should have 67 columns, and 10,730 rows'''\n",
    "    \n",
    "    hous = pd.read_csv('City_Zhvi_AllHomes (1).csv')    \n",
    "    \n",
    "    hous.drop(hous.loc[:, 'Metro':'1999-12'].columns, axis=1, inplace=True)\n",
    "    hous.drop(['RegionID'], axis=1, inplace=True)\n",
    "    #print(states)\n",
    "    \n",
    "    #Skapar en ny df där jag kan föra över ny ifo\n",
    "    new_hous = pd.DataFrame(hous[['State', 'RegionName']])\n",
    "    \n",
    "    for year in range(2000,2016): \n",
    "        new_hous[str(year)+'q1'] = hous[[str(year)+'-01',str(year)+'-02',str(year)+'-03']].mean(axis=1) \n",
    "        new_hous[str(year)+'q2'] = hous[[str(year)+'-04',str(year)+'-05',str(year)+'-06']].mean(axis=1) \n",
    "        new_hous[str(year)+'q3'] = hous[[str(year)+'-07',str(year)+'-08',str(year)+'-09']].mean(axis=1) \n",
    "        new_hous[str(year)+'q4'] = hous[[str(year)+'-10',str(year)+'-11',str(year)+'-12']].mean(axis=1) \n",
    "    \n",
    "    #In new_hous: missing year 2016-01 : 2016-08. \n",
    "    year = 2016\n",
    "    \n",
    "    new_hous[str(year)+'q1'] = hous[[str(year)+'-01',str(year)+'-02',str(year)+'-03']].mean(axis=1)\n",
    "    new_hous[str(year)+'q2'] = hous[[str(year)+'-04',str(year)+'-05',str(year)+'-06']].mean(axis=1)\n",
    "    new_hous[str(year)+'q3'] = hous[[str(year)+'-07',str(year)+'-08']].mean(axis=1)\n",
    "    \n",
    "    new_hous['State'].replace(states, inplace=True)\n",
    "    new_hous.set_index(['State', 'RegionName'], inplace = True)   \n",
    "    \n",
    "    return new_hous\n"
   ]
  },
  {
   "cell_type": "code",
   "execution_count": 108,
   "metadata": {},
   "outputs": [],
   "source": [
    "\n",
    "def run_est():\n",
    "    '''\n",
    "    1. First creates new data showing the decline or growth of housing prices\n",
    "        between the recession start and the recession bottom. \n",
    "    \n",
    "    2. Then runs a ttest comparing the university town values to the non-university towns values, \n",
    "    return whether the alternative hypothesis (that the two groups are the same)\n",
    "    is true or not as well as the p-value of the confidence. \n",
    "    \n",
    "    Return the tuple (different, p, better) where different=True if the t-test is\n",
    "    True at a p<0.01 (we reject the null hypothesis), or different=False if \n",
    "    otherwise (we cannot reject the null hypothesis). The variable p should\n",
    "    be equal to the exact p value returned from scipy.stats.ttest_ind(). The\n",
    "    value for better should be either \"university town\" or \"non-university town\"\n",
    "    depending on which has a lower mean price ratio (which is equivilent to a\n",
    "    reduced market loss).'''\n",
    "    \n",
    "    uni = get_list_of_university_towns()\n",
    "    gdp = read_gdp()\n",
    "    hous = convert_housing_data_to_quarters()\n",
    "    \n",
    "    start=get_recession_start()\n",
    "    end=get_recession_end()\n",
    "    bottom = get_recession_bottom()\n",
    "    \n",
    "    #För punkt 1. \n",
    "    hous['diff'] = hous[start]-hous[end]\n",
    "    hous = hous[[start, bottom, 'diff']]\n",
    "    hous.reset_index(inplace=True)\n",
    "    \n",
    "    #punkt 2\n",
    "    \n",
    "    #EJ uni-städer\n",
    "    nonuni = hous.drop(uni.index) #Bara housing-prices som INTE är universitetsstäder! \n",
    "    \n",
    "    #UNI-Städer\n",
    "    unidata = hous.merge(uni, right_index=True, left_index=True, how='inner')\n",
    "    \n",
    "    # T-TEST\n",
    "    p, t = ttest_ind(nonuni['diff'].dropna(), unidata['diff'].dropna())\n",
    "    \n",
    "    if p<0.01:\n",
    "        different = True \n",
    "    else: \n",
    "        different = False \n",
    "    \n",
    "    if unidata['diff'].mean() > nonuni['diff'].mean():\n",
    "        better = 'university town'\n",
    "    else: \n",
    "        better = \"non-university town\"\n",
    "    \n",
    "    return different, p, better\n"
   ]
  },
  {
   "cell_type": "code",
   "execution_count": null,
   "metadata": {},
   "outputs": [],
   "source": []
  }
 ],
 "metadata": {
  "coursera": {
   "course_slug": "python-data-analysis",
   "graded_item_id": "Il9Fx",
   "launcher_item_id": "TeDW0",
   "part_id": "WGlun"
  },
  "kernelspec": {
   "display_name": "Python 3",
   "language": "python",
   "name": "python3"
  },
  "language_info": {
   "codemirror_mode": {
    "name": "ipython",
    "version": 3
   },
   "file_extension": ".py",
   "mimetype": "text/x-python",
   "name": "python",
   "nbconvert_exporter": "python",
   "pygments_lexer": "ipython3",
   "version": "3.7.4"
  },
  "umich": {
   "id": "Assignment 4",
   "version": "1.1"
  }
 },
 "nbformat": 4,
 "nbformat_minor": 1
}
